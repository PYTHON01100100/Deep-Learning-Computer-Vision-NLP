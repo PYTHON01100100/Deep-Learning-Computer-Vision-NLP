{
 "cells": [
  {
   "cell_type": "code",
   "execution_count": 29,
   "metadata": {
    "executionInfo": {
     "elapsed": 402,
     "status": "ok",
     "timestamp": 1700246552062,
     "user": {
      "displayName": "ahmed samy",
      "userId": "08145535144646204615"
     },
     "user_tz": 0
    },
    "id": "PkVdi7Kli18C"
   },
   "outputs": [],
   "source": []
  },
  {
   "cell_type": "code",
   "execution_count": 30,
   "metadata": {
    "colab": {
     "base_uri": "https://localhost:8080/"
    },
    "executionInfo": {
     "elapsed": 36874,
     "status": "ok",
     "timestamp": 1700246588933,
     "user": {
      "displayName": "ahmed samy",
      "userId": "08145535144646204615"
     },
     "user_tz": 0
    },
    "id": "g5HNIRyfkbFR",
    "outputId": "c8074eb8-8613-4ab0-e191-4a8796b19087"
   },
   "outputs": [
    {
     "name": "stdout",
     "output_type": "stream",
     "text": [
      "2023-11-17 18:42:36.028585: E tensorflow/compiler/xla/stream_executor/cuda/cuda_dnn.cc:9342] Unable to register cuDNN factory: Attempting to register factory for plugin cuDNN when one has already been registered\n",
      "2023-11-17 18:42:36.028660: E tensorflow/compiler/xla/stream_executor/cuda/cuda_fft.cc:609] Unable to register cuFFT factory: Attempting to register factory for plugin cuFFT when one has already been registered\n",
      "2023-11-17 18:42:36.028695: E tensorflow/compiler/xla/stream_executor/cuda/cuda_blas.cc:1518] Unable to register cuBLAS factory: Attempting to register factory for plugin cuBLAS when one has already been registered\n",
      "2023-11-17 18:42:37.766483: W tensorflow/compiler/tf2tensorrt/utils/py_utils.cc:38] TF-TRT Warning: Could not find TensorRT\n",
      "Collecting en-core-web-lg==3.6.0\n",
      "  Downloading https://github.com/explosion/spacy-models/releases/download/en_core_web_lg-3.6.0/en_core_web_lg-3.6.0-py3-none-any.whl (587.7 MB)\n",
      "\u001b[2K     \u001b[90m━━━━━━━━━━━━━━━━━━━━━━━━━━━━━━━━━━━━━━━━\u001b[0m \u001b[32m587.7/587.7 MB\u001b[0m \u001b[31m2.1 MB/s\u001b[0m eta \u001b[36m0:00:00\u001b[0m\n",
      "\u001b[?25hRequirement already satisfied: spacy<3.7.0,>=3.6.0 in /usr/local/lib/python3.10/dist-packages (from en-core-web-lg==3.6.0) (3.6.1)\n",
      "Requirement already satisfied: spacy-legacy<3.1.0,>=3.0.11 in /usr/local/lib/python3.10/dist-packages (from spacy<3.7.0,>=3.6.0->en-core-web-lg==3.6.0) (3.0.12)\n",
      "Requirement already satisfied: spacy-loggers<2.0.0,>=1.0.0 in /usr/local/lib/python3.10/dist-packages (from spacy<3.7.0,>=3.6.0->en-core-web-lg==3.6.0) (1.0.5)\n",
      "Requirement already satisfied: murmurhash<1.1.0,>=0.28.0 in /usr/local/lib/python3.10/dist-packages (from spacy<3.7.0,>=3.6.0->en-core-web-lg==3.6.0) (1.0.10)\n",
      "Requirement already satisfied: cymem<2.1.0,>=2.0.2 in /usr/local/lib/python3.10/dist-packages (from spacy<3.7.0,>=3.6.0->en-core-web-lg==3.6.0) (2.0.8)\n",
      "Requirement already satisfied: preshed<3.1.0,>=3.0.2 in /usr/local/lib/python3.10/dist-packages (from spacy<3.7.0,>=3.6.0->en-core-web-lg==3.6.0) (3.0.9)\n",
      "Requirement already satisfied: thinc<8.2.0,>=8.1.8 in /usr/local/lib/python3.10/dist-packages (from spacy<3.7.0,>=3.6.0->en-core-web-lg==3.6.0) (8.1.12)\n",
      "Requirement already satisfied: wasabi<1.2.0,>=0.9.1 in /usr/local/lib/python3.10/dist-packages (from spacy<3.7.0,>=3.6.0->en-core-web-lg==3.6.0) (1.1.2)\n",
      "Requirement already satisfied: srsly<3.0.0,>=2.4.3 in /usr/local/lib/python3.10/dist-packages (from spacy<3.7.0,>=3.6.0->en-core-web-lg==3.6.0) (2.4.8)\n",
      "Requirement already satisfied: catalogue<2.1.0,>=2.0.6 in /usr/local/lib/python3.10/dist-packages (from spacy<3.7.0,>=3.6.0->en-core-web-lg==3.6.0) (2.0.10)\n",
      "Requirement already satisfied: typer<0.10.0,>=0.3.0 in /usr/local/lib/python3.10/dist-packages (from spacy<3.7.0,>=3.6.0->en-core-web-lg==3.6.0) (0.9.0)\n",
      "Requirement already satisfied: pathy>=0.10.0 in /usr/local/lib/python3.10/dist-packages (from spacy<3.7.0,>=3.6.0->en-core-web-lg==3.6.0) (0.10.3)\n",
      "Requirement already satisfied: smart-open<7.0.0,>=5.2.1 in /usr/local/lib/python3.10/dist-packages (from spacy<3.7.0,>=3.6.0->en-core-web-lg==3.6.0) (6.4.0)\n",
      "Requirement already satisfied: tqdm<5.0.0,>=4.38.0 in /usr/local/lib/python3.10/dist-packages (from spacy<3.7.0,>=3.6.0->en-core-web-lg==3.6.0) (4.66.1)\n",
      "Requirement already satisfied: numpy>=1.15.0 in /usr/local/lib/python3.10/dist-packages (from spacy<3.7.0,>=3.6.0->en-core-web-lg==3.6.0) (1.23.5)\n",
      "Requirement already satisfied: requests<3.0.0,>=2.13.0 in /usr/local/lib/python3.10/dist-packages (from spacy<3.7.0,>=3.6.0->en-core-web-lg==3.6.0) (2.31.0)\n",
      "Requirement already satisfied: pydantic!=1.8,!=1.8.1,<3.0.0,>=1.7.4 in /usr/local/lib/python3.10/dist-packages (from spacy<3.7.0,>=3.6.0->en-core-web-lg==3.6.0) (1.10.13)\n",
      "Requirement already satisfied: jinja2 in /usr/local/lib/python3.10/dist-packages (from spacy<3.7.0,>=3.6.0->en-core-web-lg==3.6.0) (3.1.2)\n",
      "Requirement already satisfied: setuptools in /usr/local/lib/python3.10/dist-packages (from spacy<3.7.0,>=3.6.0->en-core-web-lg==3.6.0) (67.7.2)\n",
      "Requirement already satisfied: packaging>=20.0 in /usr/local/lib/python3.10/dist-packages (from spacy<3.7.0,>=3.6.0->en-core-web-lg==3.6.0) (23.2)\n",
      "Requirement already satisfied: langcodes<4.0.0,>=3.2.0 in /usr/local/lib/python3.10/dist-packages (from spacy<3.7.0,>=3.6.0->en-core-web-lg==3.6.0) (3.3.0)\n",
      "Requirement already satisfied: typing-extensions>=4.2.0 in /usr/local/lib/python3.10/dist-packages (from pydantic!=1.8,!=1.8.1,<3.0.0,>=1.7.4->spacy<3.7.0,>=3.6.0->en-core-web-lg==3.6.0) (4.5.0)\n",
      "Requirement already satisfied: charset-normalizer<4,>=2 in /usr/local/lib/python3.10/dist-packages (from requests<3.0.0,>=2.13.0->spacy<3.7.0,>=3.6.0->en-core-web-lg==3.6.0) (3.3.2)\n",
      "Requirement already satisfied: idna<4,>=2.5 in /usr/local/lib/python3.10/dist-packages (from requests<3.0.0,>=2.13.0->spacy<3.7.0,>=3.6.0->en-core-web-lg==3.6.0) (3.4)\n",
      "Requirement already satisfied: urllib3<3,>=1.21.1 in /usr/local/lib/python3.10/dist-packages (from requests<3.0.0,>=2.13.0->spacy<3.7.0,>=3.6.0->en-core-web-lg==3.6.0) (2.0.7)\n",
      "Requirement already satisfied: certifi>=2017.4.17 in /usr/local/lib/python3.10/dist-packages (from requests<3.0.0,>=2.13.0->spacy<3.7.0,>=3.6.0->en-core-web-lg==3.6.0) (2023.7.22)\n",
      "Requirement already satisfied: blis<0.8.0,>=0.7.8 in /usr/local/lib/python3.10/dist-packages (from thinc<8.2.0,>=8.1.8->spacy<3.7.0,>=3.6.0->en-core-web-lg==3.6.0) (0.7.11)\n",
      "Requirement already satisfied: confection<1.0.0,>=0.0.1 in /usr/local/lib/python3.10/dist-packages (from thinc<8.2.0,>=8.1.8->spacy<3.7.0,>=3.6.0->en-core-web-lg==3.6.0) (0.1.3)\n",
      "Requirement already satisfied: click<9.0.0,>=7.1.1 in /usr/local/lib/python3.10/dist-packages (from typer<0.10.0,>=0.3.0->spacy<3.7.0,>=3.6.0->en-core-web-lg==3.6.0) (8.1.7)\n",
      "Requirement already satisfied: MarkupSafe>=2.0 in /usr/local/lib/python3.10/dist-packages (from jinja2->spacy<3.7.0,>=3.6.0->en-core-web-lg==3.6.0) (2.1.3)\n",
      "\u001b[38;5;2m✔ Download and installation successful\u001b[0m\n",
      "You can now load the package via spacy.load('en_core_web_lg')\n"
     ]
    }
   ],
   "source": [
    "!python -m spacy download en_core_web_lg"
   ]
  },
  {
   "cell_type": "code",
   "execution_count": 31,
   "metadata": {
    "executionInfo": {
     "elapsed": 3386,
     "status": "ok",
     "timestamp": 1700246592309,
     "user": {
      "displayName": "ahmed samy",
      "userId": "08145535144646204615"
     },
     "user_tz": 0
    },
    "id": "s_Whqc8gkbFV"
   },
   "outputs": [],
   "source": [
    "import spacy\n",
    "nlp = spacy.load('en_core_web_lg')"
   ]
  },
  {
   "cell_type": "code",
   "execution_count": 31,
   "metadata": {
    "executionInfo": {
     "elapsed": 34,
     "status": "ok",
     "timestamp": 1700246592309,
     "user": {
      "displayName": "ahmed samy",
      "userId": "08145535144646204615"
     },
     "user_tz": 0
    },
    "id": "0vwJvpsmlg8Z"
   },
   "outputs": [],
   "source": []
  },
  {
   "cell_type": "code",
   "execution_count": 32,
   "metadata": {
    "colab": {
     "base_uri": "https://localhost:8080/"
    },
    "executionInfo": {
     "elapsed": 33,
     "status": "ok",
     "timestamp": 1700246592309,
     "user": {
      "displayName": "ahmed samy",
      "userId": "08145535144646204615"
     },
     "user_tz": 0
    },
    "id": "gXtTiDkckbFV",
    "outputId": "2a2767e7-4ede-4564-93a9-a87074132717"
   },
   "outputs": [
    {
     "data": {
      "text/plain": [
       "array([ 1.2657e+00,  3.0703e+00, -1.7375e+00, -2.0443e+00, -1.1928e+00,\n",
       "        4.7458e+00,  4.1327e-03, -9.9579e-01,  2.7430e+00,  1.5209e+00,\n",
       "       -1.5743e+00, -1.0238e+00, -4.1670e-01,  3.0210e+00,  3.3419e+00,\n",
       "       -1.4513e+00,  1.3891e+00, -2.6773e+00,  1.5304e+00, -1.2868e+00,\n",
       "        2.2221e+00, -1.8497e-01, -3.6390e-01, -2.1370e+00,  3.3337e+00,\n",
       "        4.2660e-01,  2.4932e+00, -1.4288e+00,  2.7081e+00,  3.7910e-01,\n",
       "        3.6824e+00, -3.4750e+00,  2.6784e+00, -3.1675e+00,  7.1397e-01,\n",
       "        3.7714e-01, -2.3996e+00,  3.0475e-01,  9.8345e-01, -1.6483e+00,\n",
       "       -2.1484e+00,  2.0593e+00, -1.2598e+00,  5.4024e-01, -1.1401e+00,\n",
       "       -2.3316e+00, -1.2535e+00, -4.0506e+00, -2.4282e-02,  3.3028e+00,\n",
       "       -7.1632e-01,  4.8101e-02,  1.2775e+00, -2.2964e-02,  1.7544e+00,\n",
       "       -2.6502e+00,  9.9385e-01,  3.8857e-02, -1.0332e+00, -7.2275e-01,\n",
       "       -1.9981e+00, -2.3808e+00, -9.7850e-02, -7.5982e-01, -6.7057e-01,\n",
       "        5.1752e-01,  2.4360e-01, -3.1495e+00,  2.9339e+00, -9.4296e-01,\n",
       "        6.6251e-01,  2.4499e+00,  3.1315e-02,  1.4734e+00, -1.8636e+00,\n",
       "       -7.2413e-01, -4.9318e-01,  2.7718e+00,  1.1353e+00, -1.6181e+00,\n",
       "        1.0753e-01, -1.7407e+00, -7.0819e-01, -2.1883e+00,  1.4590e+00,\n",
       "        2.6207e+00,  1.5006e+00, -6.5071e-01, -1.2046e+00,  4.3139e-01,\n",
       "        1.6799e+00, -1.1989e+00,  3.4300e-03, -5.1471e+00, -4.3013e-01,\n",
       "       -2.8456e+00,  8.5887e-01, -6.9112e-01, -3.5415e+00, -1.7239e+00,\n",
       "        1.5720e+00,  1.4416e+00,  1.8991e+00, -1.3548e+00, -4.3791e+00,\n",
       "       -2.8694e+00, -1.8214e+00, -1.3325e-01,  1.0635e+00,  5.0961e-01,\n",
       "       -2.4572e+00, -1.0423e+00, -2.1225e+00, -5.9131e-01,  1.5448e+00,\n",
       "        3.0062e-01, -7.2216e-01,  3.4901e-01,  7.8028e-01,  1.5921e+00,\n",
       "       -3.1996e+00, -1.5762e-01, -1.9552e+00,  2.4258e+00,  1.4999e+00,\n",
       "        2.6864e+00, -1.6646e-01, -2.9196e+00,  2.8713e+00,  3.1668e+00,\n",
       "        2.1175e+00, -3.0662e+00, -9.2504e-01, -1.4213e+00, -6.9682e-01,\n",
       "        5.9271e+00, -1.4935e+00,  8.3195e-01,  2.4227e-01, -9.8318e-01,\n",
       "       -9.8516e-01, -5.8281e-01,  7.9095e-01,  3.9312e+00, -3.4781e+00,\n",
       "        7.6283e-01, -4.4371e+00,  1.2370e+00, -9.8632e-01,  1.7430e+00,\n",
       "        3.0412e-01, -1.0613e-01, -1.0171e+00, -9.1912e-01, -9.3939e-01,\n",
       "        4.1394e+00,  4.3527e+00,  3.1244e+00, -5.8540e-02, -1.0129e+00,\n",
       "        1.1795e-01, -3.1556e+00, -2.2050e+00, -9.6567e-01, -2.4015e+00,\n",
       "       -6.5535e-01,  1.9342e+00,  4.1939e-01, -2.4190e+00,  9.0822e-03,\n",
       "        2.7983e+00,  1.2368e+00,  3.4277e+00, -1.8361e+00,  1.3205e+00,\n",
       "       -2.4466e+00, -6.0411e-01,  1.3802e+00,  5.8310e-01, -2.0282e+00,\n",
       "       -8.7731e-01,  1.0356e-02,  1.8055e+00, -3.8192e-01,  2.5048e+00,\n",
       "        2.4359e+00, -6.1424e-02,  2.4013e-01, -2.9712e-01,  1.6351e+00,\n",
       "        4.5158e+00,  3.5583e+00, -1.8842e+00,  2.5951e+00, -1.4705e+00,\n",
       "        3.9217e-01, -1.0601e+00,  2.3595e+00, -2.8224e+00,  4.4224e+00,\n",
       "        1.7848e+00, -3.0513e-01, -2.1014e+00,  9.4107e-01, -6.1551e+00,\n",
       "       -2.6918e-01,  2.2497e+00,  1.0999e+00, -7.3644e-01,  1.6342e+00,\n",
       "       -1.3370e+00,  3.6173e+00, -1.9966e+00, -2.4698e+00, -2.5542e+00,\n",
       "        3.2355e+00, -6.0477e-01,  4.2956e+00, -5.8369e-01, -3.9479e-01,\n",
       "        6.1773e-01,  1.2418e+00,  1.6261e+00,  3.6433e+00,  1.3408e-01,\n",
       "       -1.5647e-01, -3.7894e+00, -1.6322e+00, -4.6426e-01, -6.9779e-01,\n",
       "       -3.0937e+00, -2.0869e-01, -2.4956e+00, -1.1007e+00, -1.4291e+00,\n",
       "       -3.3029e+00, -2.5400e+00, -1.2346e+00, -2.7839e+00,  1.0052e+00,\n",
       "        3.5795e+00, -2.3398e-01,  6.4070e-01, -2.3847e+00, -1.1826e+00,\n",
       "       -2.6635e+00, -3.4609e-01, -9.6888e-01,  3.8689e+00,  4.0255e+00,\n",
       "       -1.9424e+00,  1.3584e+00, -2.7454e+00, -2.1404e+00,  1.7877e+00,\n",
       "       -4.9686e+00,  1.3299e+00, -8.0575e-01, -3.1452e+00,  1.4733e+00,\n",
       "        2.8045e+00, -4.5535e+00,  1.3212e+00,  1.3945e+00,  6.9748e-01,\n",
       "        2.5289e+00,  7.1475e-01,  7.1169e-01, -7.0409e-01,  2.0307e+00,\n",
       "        1.4976e+00,  7.2558e-02, -1.6896e+00, -2.0963e+00, -1.1409e+00,\n",
       "       -1.2158e+00, -6.0341e-02, -1.5625e+00, -1.7409e+00,  3.4096e+00,\n",
       "       -6.8042e-02, -4.2241e+00, -1.2762e+00, -1.9332e+00,  8.8637e-01,\n",
       "       -2.9335e+00,  1.5603e+00, -2.9996e+00,  2.2201e+00,  3.0092e+00,\n",
       "        1.7960e+00, -7.6659e-01,  8.6161e-01,  5.0651e-01,  1.7610e+00,\n",
       "       -3.0670e+00, -3.9424e+00,  2.2632e+00, -4.7729e+00,  3.2085e+00],\n",
       "      dtype=float32)"
      ]
     },
     "execution_count": 32,
     "metadata": {},
     "output_type": "execute_result"
    }
   ],
   "source": [
    "nlp(u'brave').vector"
   ]
  },
  {
   "cell_type": "code",
   "execution_count": 33,
   "metadata": {
    "colab": {
     "base_uri": "https://localhost:8080/"
    },
    "executionInfo": {
     "elapsed": 27,
     "status": "ok",
     "timestamp": 1700246592309,
     "user": {
      "displayName": "ahmed samy",
      "userId": "08145535144646204615"
     },
     "user_tz": 0
    },
    "id": "1SYTgvLskbFW",
    "outputId": "a6694c84-f755-4139-8333-6cb11361e59d"
   },
   "outputs": [
    {
     "data": {
      "text/plain": [
       "array([  1.2746  ,   0.46242 ,  -1.1829  ,  -5.2661  ,  -2.7128  ,\n",
       "         1.8521  ,  -0.94273 ,   2.1865  ,   6.503   ,   0.6704  ,\n",
       "         1.5361  ,   2.5992  ,  -0.36233 ,   4.3965  ,  -6.5644  ,\n",
       "         1.6141  ,  -1.2897  ,   2.1184  ,  -0.63654 ,  -3.4572  ,\n",
       "        -4.3771  ,   4.2074  ,  -3.6411  ,  -0.97214 ,   1.3253  ,\n",
       "        -2.3125  ,  -3.6531  ,  -2.8398  ,   2.7913  ,  -1.53    ,\n",
       "        -2.9984  ,  -2.6357  ,   0.50615 ,  -2.6925  ,   4.3401  ,\n",
       "        -5.6017  ,   0.045691,   4.3832  ,  -0.19535 ,  -1.0751  ,\n",
       "         0.32172 ,   2.4395  ,   4.6638  ,   3.4471  ,  -3.3847  ,\n",
       "        -1.8238  ,   0.70212 ,   0.58557 ,   5.0032  ,  -3.1072  ,\n",
       "         1.2364  ,   7.4595  ,   0.057368,   1.0111  ,  -1.0827  ,\n",
       "         0.69113 ,   2.8009  ,  -3.4383  ,  -1.0599  ,  -2.2627  ,\n",
       "        -5.149   ,  -5.0636  ,   3.1405  ,   1.0793  ,  -0.72892 ,\n",
       "        -3.9939  ,  -0.69551 ,  -0.55767 ,   3.2555  ,  -2.9449  ,\n",
       "         4.7114  ,   1.6388  ,   1.3828  ,   1.4255  ,  -3.2334  ,\n",
       "        -2.274   ,  -1.8136  ,   2.2966  ,   2.5462  ,   1.0722  ,\n",
       "        -0.73447 ,   1.2148  ,  -0.9196  ,  -0.065012,   2.088   ,\n",
       "         0.57002 ,   3.5746  ,   1.7192  ,  -8.335   ,   0.71079 ,\n",
       "         0.91314 ,  -5.0107  ,   1.899   ,  -4.4658  ,   4.7993  ,\n",
       "        -0.39899 ,  -2.673   ,  -2.9354  ,   4.304   ,   1.4336  ,\n",
       "         3.7121  ,   0.34882 ,   4.6512  ,  -4.5731  ,  -4.5665  ,\n",
       "         1.5988  ,  -0.50383 ,   0.95857 ,   0.68728 ,  -0.39976 ,\n",
       "        -3.1922  ,   4.4363  ,  -0.69479 ,  -1.9528  ,   4.9376  ,\n",
       "         2.7259  ,   2.2485  ,   5.5734  ,   2.5842  ,   4.7836  ,\n",
       "        -1.0274  ,   2.2703  ,  -2.0696  ,  -1.0642  ,  -4.932   ,\n",
       "        -2.274   ,   4.1409  ,   0.73313 ,   2.1889  ,  -0.098888,\n",
       "         1.6472  ,  -2.3985  ,   2.5911  ,   3.6026  ,   1.885   ,\n",
       "         5.7822  ,  -1.4481  ,   1.8914  , -10.044   ,  -5.7452  ,\n",
       "        -4.3224  ,  -3.854   ,   2.3084  ,  -0.84018 ,  -0.40526 ,\n",
       "         4.7741  ,  -2.3271  ,   7.064   ,   0.95753 ,  -2.356   ,\n",
       "         0.83953 ,   0.40004 ,   0.33743 ,   0.8376  ,   3.9285  ,\n",
       "         0.05955 ,   2.4422  ,   4.3492  ,   3.9861  ,   2.1043  ,\n",
       "        -1.0197  ,  -0.61752 ,  -0.42999 ,  -0.1014  ,  -5.9571  ,\n",
       "        -0.53818 ,  -1.7797  ,   1.7446  ,   2.3934  ,  -0.50263 ,\n",
       "        -1.6222  ,  -0.37372 ,  -6.8938  ,   0.55018 ,  -2.267   ,\n",
       "         0.64912 ,   3.1525  ,  -2.2541  ,  -4.0384  ,   3.206   ,\n",
       "         0.14962 ,  -2.6662  ,   0.18167 ,   5.0028  ,   2.1521  ,\n",
       "         0.92419 ,   5.4163  ,  -2.2408  ,   1.6585  ,  -5.1625  ,\n",
       "         5.029   ,   0.1026  ,  -0.44542 ,   2.0557  ,   3.7778  ,\n",
       "         3.8679  ,  -2.7135  ,   5.3242  ,  -3.2916  ,   5.6421  ,\n",
       "         5.0466  ,   1.6072  ,  -1.3206  ,   4.2044  ,  -0.33793 ,\n",
       "        -3.1139  ,   2.8841  ,  -3.1565  ,  -2.9832  ,  -0.23235 ,\n",
       "         2.3259  ,   3.5477  ,  -2.1299  ,  -1.8344  ,   2.7271  ,\n",
       "         1.5568  ,   5.6865  ,   0.9412  ,  -2.6412  ,  -5.3254  ,\n",
       "         1.3494  ,  -0.47159 ,   2.4979  ,  -1.5568  ,  -1.6911  ,\n",
       "        -2.1842  ,   6.0319  ,   0.022573,   2.3824  ,  -1.1002  ,\n",
       "         0.90216 ,  -1.9113  ,   1.5527  ,   5.7413  ,  -3.1956  ,\n",
       "         0.68655 ,  -1.6068  ,   1.7404  ,  -3.2142  ,   6.4783  ,\n",
       "         1.7548  ,  -2.9795  ,   0.97631 ,  -0.018354,  -0.6379  ,\n",
       "         0.80559 ,   3.1923  ,   3.3335  ,   4.3068  ,  -1.0819  ,\n",
       "        -1.3839  ,  -4.7626  ,  -4.6637  ,  -1.2201  ,  -3.2741  ,\n",
       "         1.5204  ,   0.78119 ,   8.7339  ,   1.6009  ,  -0.79332 ,\n",
       "         5.8416  ,  -1.485   ,   1.5978  ,   2.9746  ,  -0.30759 ,\n",
       "        -1.8023  ,  -4.8344  ,   1.2817  ,  -2.5469  ,   2.6517  ,\n",
       "         1.4881  ,   2.1952  ,  -0.12652 ,   1.2223  ,   0.44763 ,\n",
       "        -3.1445  ,  -2.2051  ,  -4.1785  ,  -3.6539  ,   5.1929  ,\n",
       "         0.78457 ,  -1.2312  ,   5.5624  ,  -1.8462  ,   6.1262  ,\n",
       "        -1.6653  ,  -2.7557  ,  -0.066465,  -3.6362  ,   5.2005  ,\n",
       "        -1.2865  ,   2.8855  ,   6.1219  ,   1.7824  ,   1.4264  ,\n",
       "        10.628   ,  -0.36028 ,   1.9268  ,  -7.835   ,   0.57865 ],\n",
       "      dtype=float32)"
      ]
     },
     "execution_count": 33,
     "metadata": {},
     "output_type": "execute_result"
    }
   ],
   "source": [
    "nlp(u'lion').vector"
   ]
  },
  {
   "cell_type": "code",
   "execution_count": 34,
   "metadata": {
    "colab": {
     "base_uri": "https://localhost:8080/"
    },
    "executionInfo": {
     "elapsed": 20,
     "status": "ok",
     "timestamp": 1700246592309,
     "user": {
      "displayName": "ahmed samy",
      "userId": "08145535144646204615"
     },
     "user_tz": 0
    },
    "id": "TOiZMTOdkbFX",
    "outputId": "d723c7b8-661e-4978-b1f5-34889179074d"
   },
   "outputs": [
    {
     "data": {
      "text/plain": [
       "300"
      ]
     },
     "execution_count": 34,
     "metadata": {},
     "output_type": "execute_result"
    }
   ],
   "source": [
    "len(nlp(u'lion').vector)"
   ]
  },
  {
   "cell_type": "code",
   "execution_count": 35,
   "metadata": {
    "colab": {
     "base_uri": "https://localhost:8080/"
    },
    "executionInfo": {
     "elapsed": 15,
     "status": "ok",
     "timestamp": 1700246592310,
     "user": {
      "displayName": "ahmed samy",
      "userId": "08145535144646204615"
     },
     "user_tz": 0
    },
    "id": "_PwAGMplkbFX",
    "outputId": "74f285a9-24d0-4690-d59f-996d534077f4"
   },
   "outputs": [
    {
     "data": {
      "text/plain": [
       "array([-1.7769655 ,  0.39714497, -1.695121  , -0.1089559 ,  3.861494  ,\n",
       "       -0.10778303, -0.02750097,  3.191314  ,  1.0857747 , -0.2615487 ,\n",
       "        4.0720797 ,  1.5932049 , -2.7569218 ,  0.70982707,  2.0976841 ,\n",
       "        0.08150103,  0.8847861 , -0.505237  ,  0.767067  , -2.88911   ,\n",
       "       -0.28514975, -0.331664  ,  0.306348  , -2.25347   ,  0.96798134,\n",
       "       -0.030282  , -3.765162  , -2.168157  ,  1.3985709 ,  2.175709  ,\n",
       "       -0.81103534, -0.55156004, -1.033463  , -2.3130198 , -2.892054  ,\n",
       "       -2.843568  , -0.33247897,  1.620013  ,  3.03307   , -0.42730814,\n",
       "        1.298548  ,  0.18969259,  1.234282  , -0.14263602, -1.427765  ,\n",
       "       -0.05807757,  0.33836406, -1.6987331 , -2.13661   ,  0.10412004,\n",
       "        0.62479395,  3.9712129 , -0.31110606, -1.9676571 , -0.11860895,\n",
       "        0.55582994, -0.660888  ,  1.947435  ,  1.6391805 ,  0.6569032 ,\n",
       "        0.054408  , -2.08993   ,  1.0370519 ,  0.5363236 ,  0.00807395,\n",
       "       -0.91060096, -3.3870788 , -1.4823462 ,  1.4170542 ,  0.32670596,\n",
       "        0.602952  , -1.047483  , -0.3633799 , -0.09132097,  0.722465  ,\n",
       "       -0.74786097, -1.8563267 ,  0.827946  , -0.99609107, -0.3298212 ,\n",
       "       -3.472247  , -0.94788504, -0.46503416,  0.6626488 ,  2.5601602 ,\n",
       "       -1.2395241 ,  0.61391175, -0.61511296, -1.459838  ,  0.14399411,\n",
       "       -1.1767578 , -0.10416207,  1.6930513 , -1.6688293 ,  0.26341552,\n",
       "       -0.84874   ,  1.5149789 ,  0.03238799,  1.768853  ,  0.42900094,\n",
       "        1.43253   , -0.53126115,  2.916109  ,  1.7515122 ,  0.62033385,\n",
       "        1.7113819 , -1.5602219 ,  1.0098228 , -1.277114  , -0.816329  ,\n",
       "       -0.28804332,  0.0696778 , -1.0609343 ,  0.960142  ,  1.765322  ,\n",
       "       -0.18756203,  0.75897396, -0.64144975,  1.7536061 ,  0.10283799,\n",
       "       -0.31856102, -1.091177  , -1.6496038 ,  1.657584  , -1.5179831 ,\n",
       "       -1.886636  ,  1.6479073 , -1.196546  ,  3.3722177 , -0.22696403,\n",
       "       -3.203148  , -1.708502  ,  2.9725442 , -0.320748  ,  0.466757  ,\n",
       "        1.6034908 , -1.6832211 , -2.80418   ,  1.4318919 , -1.0059    ,\n",
       "       -2.9437232 , -1.430186  , -1.3512889 , -0.09892895, -0.38347203,\n",
       "        1.071111  , -1.02584   ,  0.30393195,  1.5452302 ,  0.28571904,\n",
       "        0.10674398,  2.7844248 ,  0.43838865, -0.21123195, -0.69085443,\n",
       "        0.04283998,  2.3449368 , -0.8889019 , -0.2773927 ,  0.3125515 ,\n",
       "        0.264121  , -2.649219  ,  0.33148596,  0.39187098, -2.2444918 ,\n",
       "       -1.1317899 , -1.935579  ,  0.52987385,  0.303826  ,  1.681892  ,\n",
       "        1.0111669 ,  1.5380409 ,  1.7308229 , -0.080899  , -0.892347  ,\n",
       "       -0.23734598, -0.21603405, -0.69041294, -1.6095406 , -0.8730756 ,\n",
       "       -1.5468609 , -0.17627892, -0.1907803 ,  0.17952934, -0.803991  ,\n",
       "       -0.03223496, -1.9790027 , -1.6414549 ,  0.20527199, -1.104895  ,\n",
       "        0.24875899,  1.186315  , -0.8186741 , -2.410284  ,  0.5833171 ,\n",
       "       -0.784715  , -2.627035  , -0.15004005, -1.4183891 ,  0.442288  ,\n",
       "       -0.62965304, -1.113676  , -0.46552286, -1.651365  ,  1.8519121 ,\n",
       "        1.1279902 , -3.2509658 ,  0.04463506,  0.11902802,  0.68590844,\n",
       "        0.77328   ,  1.3373908 , -1.7096472 , -0.5530244 , -0.02548897,\n",
       "        1.19019   ,  0.10446696, -1.351313  , -1.7751659 , -0.44060117,\n",
       "       -1.4011772 ,  0.9672308 , -0.97586805,  1.2529299 , -1.9867659 ,\n",
       "       -0.7944795 ,  0.6362045 ,  2.010871  ,  3.6185539 ,  0.62658596,\n",
       "        0.9231445 , -3.4679253 ,  0.42413408,  1.219738  , -0.0507701 ,\n",
       "        2.0426223 , -1.5670619 ,  1.5156981 , -0.09616538,  1.6220791 ,\n",
       "        0.775658  , -1.8741112 ,  2.0503078 , -0.7602806 , -1.442644  ,\n",
       "        1.69713   , -1.6083733 , -0.278282  , -1.431804  ,  0.60193396,\n",
       "       -0.51194596, -2.1616828 , -4.4544115 , -0.3637256 , -0.98130643,\n",
       "       -2.1879544 ,  1.471617  ,  3.2054775 , -0.562816  , -1.099867  ,\n",
       "        2.353531  ,  1.6450421 ,  2.8005474 ,  1.1693535 ,  0.086842  ,\n",
       "       -2.5300715 , -1.5670309 ,  0.31365603, -2.450636  ,  1.4588621 ,\n",
       "        1.24279   ,  0.08502197,  1.06439   , -0.86917496,  0.32117197,\n",
       "       -0.909351  ,  0.52400905, -1.35512   , -0.72316396,  1.9528949 ,\n",
       "        0.49172202,  0.4663611 , -0.43013096, -0.09305   ,  1.265938  ,\n",
       "       -1.251461  , -0.85874796, -0.2679918 , -0.173774  ,  0.56781405,\n",
       "       -0.5377843 ,  0.871497  ,  2.4677212 ,  0.6728541 , -0.97043693,\n",
       "        2.501867  , -0.572828  ,  0.504657  , -3.4507267 ,  0.45634192],\n",
       "      dtype=float32)"
      ]
     },
     "execution_count": 35,
     "metadata": {},
     "output_type": "execute_result"
    }
   ],
   "source": [
    "doc = nlp(u'The quick brown fox jumped over the lazy dogs.')\n",
    "\n",
    "doc.vector"
   ]
  },
  {
   "cell_type": "code",
   "execution_count": 36,
   "metadata": {
    "colab": {
     "base_uri": "https://localhost:8080/"
    },
    "executionInfo": {
     "elapsed": 12,
     "status": "ok",
     "timestamp": 1700246592310,
     "user": {
      "displayName": "ahmed samy",
      "userId": "08145535144646204615"
     },
     "user_tz": 0
    },
    "id": "coC6xfNjkbFY",
    "outputId": "3dfcba7e-1906-47a8-c8df-ed67d184dfc6"
   },
   "outputs": [
    {
     "name": "stdout",
     "output_type": "stream",
     "text": [
      "lion lion 1.0\n",
      "lion cat 0.3854507803916931\n",
      "lion pet 0.20031584799289703\n",
      "cat lion 0.3854507803916931\n",
      "cat cat 1.0\n",
      "cat pet 0.732966423034668\n",
      "pet lion 0.20031584799289703\n",
      "pet cat 0.732966423034668\n",
      "pet pet 1.0\n"
     ]
    }
   ],
   "source": [
    "tokens = nlp(u'lion cat pet')\n",
    "\n",
    "for token1 in tokens:\n",
    "    for token2 in tokens:\n",
    "        print(token1.text, token2.text, token1.similarity(token2))"
   ]
  },
  {
   "cell_type": "code",
   "execution_count": 37,
   "metadata": {
    "colab": {
     "base_uri": "https://localhost:8080/"
    },
    "executionInfo": {
     "elapsed": 456,
     "status": "ok",
     "timestamp": 1700246592760,
     "user": {
      "displayName": "ahmed samy",
      "userId": "08145535144646204615"
     },
     "user_tz": 0
    },
    "id": "zrKirMwrkbFZ",
    "outputId": "0b31eda4-18ca-4aaf-d0c5-e185dff45348"
   },
   "outputs": [
    {
     "data": {
      "text/plain": [
       "0.8273443215651575"
      ]
     },
     "execution_count": 37,
     "metadata": {},
     "output_type": "execute_result"
    }
   ],
   "source": [
    "nlp(u'man').similarity(nlp(u'woman'))"
   ]
  },
  {
   "cell_type": "code",
   "execution_count": 38,
   "metadata": {
    "colab": {
     "base_uri": "https://localhost:8080/"
    },
    "executionInfo": {
     "elapsed": 13,
     "status": "ok",
     "timestamp": 1700246592760,
     "user": {
      "displayName": "ahmed samy",
      "userId": "08145535144646204615"
     },
     "user_tz": 0
    },
    "id": "2Ka_qCeQkbFZ",
    "outputId": "9b32c592-0129-4069-c766-84b3c1fc902b"
   },
   "outputs": [
    {
     "data": {
      "text/plain": [
       "0.24762304993106887"
      ]
     },
     "execution_count": 38,
     "metadata": {},
     "output_type": "execute_result"
    }
   ],
   "source": [
    "nlp(u'man').similarity(nlp(u'tree'))"
   ]
  },
  {
   "cell_type": "code",
   "execution_count": 39,
   "metadata": {
    "colab": {
     "base_uri": "https://localhost:8080/"
    },
    "executionInfo": {
     "elapsed": 11,
     "status": "ok",
     "timestamp": 1700246592760,
     "user": {
      "displayName": "ahmed samy",
      "userId": "08145535144646204615"
     },
     "user_tz": 0
    },
    "id": "mIJ0ROfLkbFa",
    "outputId": "9ab791e7-41a1-405c-8677-57777372579d"
   },
   "outputs": [
    {
     "data": {
      "text/plain": [
       "0.2090716657048806"
      ]
     },
     "execution_count": 39,
     "metadata": {},
     "output_type": "execute_result"
    }
   ],
   "source": [
    "nlp(u'woman').similarity(nlp(u'moon'))"
   ]
  },
  {
   "cell_type": "code",
   "execution_count": 40,
   "metadata": {
    "colab": {
     "base_uri": "https://localhost:8080/"
    },
    "executionInfo": {
     "elapsed": 9,
     "status": "ok",
     "timestamp": 1700246592760,
     "user": {
      "displayName": "ahmed samy",
      "userId": "08145535144646204615"
     },
     "user_tz": 0
    },
    "id": "zXh1eBxakbFa",
    "outputId": "6d87aa79-86b8-45b8-8d2e-ac73f171199d"
   },
   "outputs": [
    {
     "data": {
      "text/plain": [
       "0.21665136482699204"
      ]
     },
     "execution_count": 40,
     "metadata": {},
     "output_type": "execute_result"
    }
   ],
   "source": [
    "nlp(u'woman').similarity(nlp(u'flower'))"
   ]
  },
  {
   "cell_type": "code",
   "execution_count": 41,
   "metadata": {
    "colab": {
     "base_uri": "https://localhost:8080/"
    },
    "executionInfo": {
     "elapsed": 9,
     "status": "ok",
     "timestamp": 1700246592760,
     "user": {
      "displayName": "ahmed samy",
      "userId": "08145535144646204615"
     },
     "user_tz": 0
    },
    "id": "pa5zCT39kbFa",
    "outputId": "833eb950-ffb7-4eac-c02d-9bab79d80303"
   },
   "outputs": [
    {
     "data": {
      "text/plain": [
       "0.02269150095424499"
      ]
     },
     "execution_count": 41,
     "metadata": {},
     "output_type": "execute_result"
    }
   ],
   "source": [
    "nlp(u'tree').similarity(nlp(u'brave'))"
   ]
  },
  {
   "cell_type": "code",
   "execution_count": 42,
   "metadata": {
    "colab": {
     "base_uri": "https://localhost:8080/"
    },
    "executionInfo": {
     "elapsed": 9,
     "status": "ok",
     "timestamp": 1700246592761,
     "user": {
      "displayName": "ahmed samy",
      "userId": "08145535144646204615"
     },
     "user_tz": 0
    },
    "id": "eafWDvuckbFb",
    "outputId": "75d6e553-9764-45a1-d403-8a30be9b85bb"
   },
   "outputs": [
    {
     "data": {
      "text/plain": [
       "0.7136095195259959"
      ]
     },
     "execution_count": 42,
     "metadata": {},
     "output_type": "execute_result"
    }
   ],
   "source": [
    "nlp(u'lion').similarity(nlp(u'tiger'))"
   ]
  },
  {
   "cell_type": "code",
   "execution_count": 43,
   "metadata": {
    "colab": {
     "base_uri": "https://localhost:8080/"
    },
    "executionInfo": {
     "elapsed": 7,
     "status": "ok",
     "timestamp": 1700246592761,
     "user": {
      "displayName": "ahmed samy",
      "userId": "08145535144646204615"
     },
     "user_tz": 0
    },
    "id": "0-46mL5ukbFb",
    "outputId": "dd70b28b-d46f-4fce-e07b-5ae43ac7d128"
   },
   "outputs": [
    {
     "data": {
      "text/plain": [
       "0.4145525455932417"
      ]
     },
     "execution_count": 43,
     "metadata": {},
     "output_type": "execute_result"
    }
   ],
   "source": [
    "nlp(u'lion').similarity(nlp(u'dandelion'))"
   ]
  },
  {
   "cell_type": "code",
   "execution_count": 44,
   "metadata": {
    "colab": {
     "base_uri": "https://localhost:8080/"
    },
    "executionInfo": {
     "elapsed": 6,
     "status": "ok",
     "timestamp": 1700246592761,
     "user": {
      "displayName": "ahmed samy",
      "userId": "08145535144646204615"
     },
     "user_tz": 0
    },
    "id": "aCyJiKIckbFb",
    "outputId": "8c304cce-9214-457c-c469-662fd16fb277"
   },
   "outputs": [
    {
     "data": {
      "text/plain": [
       "0.3909592272415508"
      ]
     },
     "execution_count": 44,
     "metadata": {},
     "output_type": "execute_result"
    }
   ],
   "source": [
    "nlp(u'some').similarity(nlp(u'same'))"
   ]
  },
  {
   "cell_type": "code",
   "execution_count": 45,
   "metadata": {
    "colab": {
     "base_uri": "https://localhost:8080/"
    },
    "executionInfo": {
     "elapsed": 333,
     "status": "ok",
     "timestamp": 1700246593089,
     "user": {
      "displayName": "ahmed samy",
      "userId": "08145535144646204615"
     },
     "user_tz": 0
    },
    "id": "x27qlNGlkbFb",
    "outputId": "d337842c-3e5a-453e-8737-75789a805394"
   },
   "outputs": [
    {
     "data": {
      "text/plain": [
       "0.08579078418991977"
      ]
     },
     "execution_count": 45,
     "metadata": {},
     "output_type": "execute_result"
    }
   ],
   "source": [
    "nlp(u'piece').similarity(nlp(u'peace'))"
   ]
  },
  {
   "cell_type": "code",
   "execution_count": 46,
   "metadata": {
    "colab": {
     "base_uri": "https://localhost:8080/"
    },
    "executionInfo": {
     "elapsed": 47,
     "status": "ok",
     "timestamp": 1700246593090,
     "user": {
      "displayName": "ahmed samy",
      "userId": "08145535144646204615"
     },
     "user_tz": 0
    },
    "id": "4bRb26LAkbFc",
    "outputId": "1407b571-b242-489f-e51d-d2782a0faa21"
   },
   "outputs": [
    {
     "data": {
      "text/plain": [
       "0.5708349903422567"
      ]
     },
     "execution_count": 46,
     "metadata": {},
     "output_type": "execute_result"
    }
   ],
   "source": [
    "nlp(u'love').similarity(nlp(u'hate'))"
   ]
  },
  {
   "cell_type": "code",
   "execution_count": 47,
   "metadata": {
    "colab": {
     "base_uri": "https://localhost:8080/"
    },
    "executionInfo": {
     "elapsed": 44,
     "status": "ok",
     "timestamp": 1700246593090,
     "user": {
      "displayName": "ahmed samy",
      "userId": "08145535144646204615"
     },
     "user_tz": 0
    },
    "id": "l1qd656hkbFc",
    "outputId": "df70387a-c8f3-4b55-b238-1872b5033322"
   },
   "outputs": [
    {
     "data": {
      "text/plain": [
       "0.289503562280788"
      ]
     },
     "execution_count": 47,
     "metadata": {},
     "output_type": "execute_result"
    }
   ],
   "source": [
    "nlp(u'love').similarity(nlp(u'flower'))"
   ]
  },
  {
   "cell_type": "code",
   "execution_count": 48,
   "metadata": {
    "colab": {
     "base_uri": "https://localhost:8080/"
    },
    "executionInfo": {
     "elapsed": 42,
     "status": "ok",
     "timestamp": 1700246593091,
     "user": {
      "displayName": "ahmed samy",
      "userId": "08145535144646204615"
     },
     "user_tz": 0
    },
    "id": "g3pcvMrlkbFc",
    "outputId": "cd09682c-7a69-4d5a-91d0-cf8940eb64a3"
   },
   "outputs": [
    {
     "data": {
      "text/plain": [
       "0.9503183859344599"
      ]
     },
     "execution_count": 48,
     "metadata": {},
     "output_type": "execute_result"
    }
   ],
   "source": [
    "nlp(u'I love school').similarity(nlp(u'I hate school'))"
   ]
  },
  {
   "cell_type": "code",
   "execution_count": 49,
   "metadata": {
    "colab": {
     "base_uri": "https://localhost:8080/"
    },
    "executionInfo": {
     "elapsed": 39,
     "status": "ok",
     "timestamp": 1700246593091,
     "user": {
      "displayName": "ahmed samy",
      "userId": "08145535144646204615"
     },
     "user_tz": 0
    },
    "id": "KPxeiGNckbFc",
    "outputId": "d24a5b99-6bec-4ad4-e10e-2d8e9d7cc564"
   },
   "outputs": [
    {
     "data": {
      "text/plain": [
       "0.9793199043889617"
      ]
     },
     "execution_count": 49,
     "metadata": {},
     "output_type": "execute_result"
    }
   ],
   "source": [
    "nlp(u'this film is awesome. I love it').similarity(nlp(u'this film is boring. I hate it'))"
   ]
  },
  {
   "cell_type": "code",
   "execution_count": 50,
   "metadata": {
    "colab": {
     "base_uri": "https://localhost:8080/"
    },
    "executionInfo": {
     "elapsed": 36,
     "status": "ok",
     "timestamp": 1700246593091,
     "user": {
      "displayName": "ahmed samy",
      "userId": "08145535144646204615"
     },
     "user_tz": 0
    },
    "id": "qZvHjUyekbFc",
    "outputId": "23579961-4326-4e90-925e-4d6eacb014dc"
   },
   "outputs": [
    {
     "name": "stdout",
     "output_type": "stream",
     "text": [
      "like love 0.5212638974189758\n",
      "like hate 0.5065140724182129\n",
      "like flower 0.22865387797355652\n",
      "love like 0.5212638974189758\n",
      "love hate 0.5708349943161011\n",
      "love flower 0.2895035445690155\n",
      "hate like 0.5065140724182129\n",
      "hate love 0.5708349943161011\n",
      "hate flower -0.005905366037040949\n",
      "flower like 0.22865387797355652\n",
      "flower love 0.2895035445690155\n",
      "flower hate -0.005905366037040949\n"
     ]
    }
   ],
   "source": [
    "tokens = nlp(u'like love hate flower')\n",
    "\n",
    "for token1 in tokens:\n",
    "    for token2 in tokens:\n",
    "        if not token1 == token2 :\n",
    "            print(token1.text, token2.text, token1.similarity(token2))"
   ]
  },
  {
   "cell_type": "code",
   "execution_count": 51,
   "metadata": {
    "colab": {
     "base_uri": "https://localhost:8080/"
    },
    "executionInfo": {
     "elapsed": 31,
     "status": "ok",
     "timestamp": 1700246593091,
     "user": {
      "displayName": "ahmed samy",
      "userId": "08145535144646204615"
     },
     "user_tz": 0
    },
    "id": "SQ-Qv74ckbFd",
    "outputId": "25d83ff5-8342-478c-9c0e-02f785ed805f"
   },
   "outputs": [
    {
     "data": {
      "text/plain": [
       "514157"
      ]
     },
     "execution_count": 51,
     "metadata": {},
     "output_type": "execute_result"
    }
   ],
   "source": [
    "len(nlp.vocab.vectors)"
   ]
  },
  {
   "cell_type": "code",
   "execution_count": 52,
   "metadata": {
    "colab": {
     "base_uri": "https://localhost:8080/"
    },
    "executionInfo": {
     "elapsed": 26,
     "status": "ok",
     "timestamp": 1700246593092,
     "user": {
      "displayName": "ahmed samy",
      "userId": "08145535144646204615"
     },
     "user_tz": 0
    },
    "id": "ORvoK7gikbFd",
    "outputId": "bbfe45e9-d875-488e-9883-ce3ae2b3b717"
   },
   "outputs": [
    {
     "data": {
      "text/plain": [
       "(514157, 300)"
      ]
     },
     "execution_count": 52,
     "metadata": {},
     "output_type": "execute_result"
    }
   ],
   "source": [
    "nlp.vocab.vectors.shape"
   ]
  },
  {
   "cell_type": "code",
   "execution_count": 53,
   "metadata": {
    "colab": {
     "base_uri": "https://localhost:8080/"
    },
    "executionInfo": {
     "elapsed": 337,
     "status": "ok",
     "timestamp": 1700246593412,
     "user": {
      "displayName": "ahmed samy",
      "userId": "08145535144646204615"
     },
     "user_tz": 0
    },
    "id": "GsDu47uOkbFd",
    "outputId": "40edb1e1-eaea-4d55-b09b-8c88b8c9ab1a"
   },
   "outputs": [
    {
     "name": "stdout",
     "output_type": "stream",
     "text": [
      "dog True 75.254234 False\n",
      "cat True 63.188496 False\n",
      "nargle False 0.0 True\n",
      "hesham False 0.0 True\n",
      "lksdvsk False 0.0 True\n"
     ]
    }
   ],
   "source": [
    "tokens = nlp(u'dog cat nargle hesham lksdvsk')\n",
    "\n",
    "for token in tokens:\n",
    "    print(token.text, token.has_vector, token.vector_norm, token.is_oov)\n"
   ]
  },
  {
   "cell_type": "code",
   "execution_count": 54,
   "metadata": {
    "colab": {
     "base_uri": "https://localhost:8080/"
    },
    "executionInfo": {
     "elapsed": 25,
     "status": "ok",
     "timestamp": 1700246593412,
     "user": {
      "displayName": "ahmed samy",
      "userId": "08145535144646204615"
     },
     "user_tz": 0
    },
    "id": "RjDRBZkVkbFd",
    "outputId": "10662e8f-3266-41a9-a8fe-51d61be3eee5"
   },
   "outputs": [
    {
     "name": "stdout",
     "output_type": "stream",
     "text": [
      "Word prince , has similarity 0.6562830209732056\n",
      "Word princess , has similarity 0.6480761170387268\n",
      "Word queen , has similarity 0.6178014278411865\n",
      "Word crown , has similarity 0.520516574382782\n",
      "Word castle , has similarity 0.3856709599494934\n",
      "Word land , has similarity 0.3745791018009186\n",
      "Word elizabeth , has similarity 0.3294205367565155\n",
      "Word great , has similarity 0.28880080580711365\n",
      "Word white , has similarity 0.2524483799934387\n",
      "Word study , has similarity 0.2325545996427536\n"
     ]
    }
   ],
   "source": [
    "from scipy import spatial\n",
    "\n",
    "cosine_similarity = lambda x, y: 1 - spatial.distance.cosine(x, y)\n",
    "\n",
    "king = nlp.vocab['king'].vector\n",
    "man = nlp.vocab['man'].vector\n",
    "woman = nlp.vocab['woman'].vector\n",
    "\n",
    "# Now we find the closest vector in the vocabulary to the result of \"man\" - \"woman\" + \"queen\"\n",
    "new_vector = king - man + woman\n",
    "computed_similarities = []\n",
    "\n",
    "words = ['cat','apple','queen','castle','sea','shell','orange','phone' , 'tiffany'\n",
    "         ,'angry','book','white','land','study','crown','prince','dog',\n",
    "         'great','princess','elizabeth','wow','eat','dead','horrible']\n",
    "\n",
    "for word in words:\n",
    "    similarity = cosine_similarity(new_vector,nlp.vocab[word].vector)\n",
    "    computed_similarities.append((word, similarity))\n",
    "\n",
    "computed_similarities = sorted(computed_similarities, key=lambda item: -item[1])\n",
    "\n",
    "for a,b in computed_similarities[:10] :\n",
    "    print(f'Word {a} , has similarity {b}')"
   ]
  },
  {
   "cell_type": "code",
   "execution_count": 54,
   "metadata": {
    "executionInfo": {
     "elapsed": 22,
     "status": "ok",
     "timestamp": 1700246593413,
     "user": {
      "displayName": "ahmed samy",
      "userId": "08145535144646204615"
     },
     "user_tz": 0
    },
    "id": "K8ihK5QakbFd"
   },
   "outputs": [],
   "source": []
  },
  {
   "cell_type": "code",
   "execution_count": 54,
   "metadata": {
    "executionInfo": {
     "elapsed": 21,
     "status": "ok",
     "timestamp": 1700246593413,
     "user": {
      "displayName": "ahmed samy",
      "userId": "08145535144646204615"
     },
     "user_tz": 0
    },
    "id": "yBMwCqMUkbFd"
   },
   "outputs": [],
   "source": []
  },
  {
   "cell_type": "code",
   "execution_count": 54,
   "metadata": {
    "executionInfo": {
     "elapsed": 22,
     "status": "ok",
     "timestamp": 1700246593414,
     "user": {
      "displayName": "ahmed samy",
      "userId": "08145535144646204615"
     },
     "user_tz": 0
    },
    "id": "fJEfWbikkbFe"
   },
   "outputs": [],
   "source": []
  },
  {
   "cell_type": "code",
   "execution_count": 54,
   "metadata": {
    "executionInfo": {
     "elapsed": 20,
     "status": "ok",
     "timestamp": 1700246593414,
     "user": {
      "displayName": "ahmed samy",
      "userId": "08145535144646204615"
     },
     "user_tz": 0
    },
    "id": "o-5g7YR2kbFf"
   },
   "outputs": [],
   "source": []
  },
  {
   "cell_type": "code",
   "execution_count": 55,
   "metadata": {
    "colab": {
     "base_uri": "https://localhost:8080/"
    },
    "executionInfo": {
     "elapsed": 20,
     "status": "ok",
     "timestamp": 1700246593415,
     "user": {
      "displayName": "ahmed samy",
      "userId": "08145535144646204615"
     },
     "user_tz": 0
    },
    "id": "49BcdxT5kbFg",
    "outputId": "af4831b8-767e-40e2-e952-1124bf66173c"
   },
   "outputs": [
    {
     "data": {
      "text/plain": [
       "array([0., 0., 0., 0., 0., 0., 0., 0., 0., 0., 0., 0., 0., 0., 0., 0., 0.,\n",
       "       0., 0., 0., 0., 0., 0., 0., 0., 0., 0., 0., 0., 0., 0., 0., 0., 0.,\n",
       "       0., 0., 0., 0., 0., 0., 0., 0., 0., 0., 0., 0., 0., 0., 0., 0., 0.,\n",
       "       0., 0., 0., 0., 0., 0., 0., 0., 0., 0., 0., 0., 0., 0., 0., 0., 0.,\n",
       "       0., 0., 0., 0., 0., 0., 0., 0., 0., 0., 0., 0., 0., 0., 0., 0., 0.,\n",
       "       0., 0., 0., 0., 0., 0., 0., 0., 0., 0., 0., 0., 0., 0., 0., 0., 0.,\n",
       "       0., 0., 0., 0., 0., 0., 0., 0., 0., 0., 0., 0., 0., 0., 0., 0., 0.,\n",
       "       0., 0., 0., 0., 0., 0., 0., 0., 0., 0., 0., 0., 0., 0., 0., 0., 0.,\n",
       "       0., 0., 0., 0., 0., 0., 0., 0., 0., 0., 0., 0., 0., 0., 0., 0., 0.,\n",
       "       0., 0., 0., 0., 0., 0., 0., 0., 0., 0., 0., 0., 0., 0., 0., 0., 0.,\n",
       "       0., 0., 0., 0., 0., 0., 0., 0., 0., 0., 0., 0., 0., 0., 0., 0., 0.,\n",
       "       0., 0., 0., 0., 0., 0., 0., 0., 0., 0., 0., 0., 0., 0., 0., 0., 0.,\n",
       "       0., 0., 0., 0., 0., 0., 0., 0., 0., 0., 0., 0., 0., 0., 0., 0., 0.,\n",
       "       0., 0., 0., 0., 0., 0., 0., 0., 0., 0., 0., 0., 0., 0., 0., 0., 0.,\n",
       "       0., 0., 0., 0., 0., 0., 0., 0., 0., 0., 0., 0., 0., 0., 0., 0., 0.,\n",
       "       0., 0., 0., 0., 0., 0., 0., 0., 0., 0., 0., 0., 0., 0., 0., 0., 0.,\n",
       "       0., 0., 0., 0., 0., 0., 0., 0., 0., 0., 0., 0., 0., 0., 0., 0., 0.,\n",
       "       0., 0., 0., 0., 0., 0., 0., 0., 0., 0., 0.], dtype=float32)"
      ]
     },
     "execution_count": 55,
     "metadata": {},
     "output_type": "execute_result"
    }
   ],
   "source": [
    "nlp(u'أسد').vector"
   ]
  },
  {
   "cell_type": "code",
   "execution_count": 56,
   "metadata": {
    "colab": {
     "base_uri": "https://localhost:8080/"
    },
    "executionInfo": {
     "elapsed": 325,
     "status": "ok",
     "timestamp": 1700246593724,
     "user": {
      "displayName": "ahmed samy",
      "userId": "08145535144646204615"
     },
     "user_tz": 0
    },
    "id": "bpXGnQpzkbFg",
    "outputId": "f9227de2-88bb-43dc-e7b8-a8e49553fda5"
   },
   "outputs": [
    {
     "data": {
      "text/plain": [
       "array([ 0.0832475 , -0.054465  ,  0.307     , -0.417525  , -0.11432   ,\n",
       "        0.25995   , -0.1459275 ,  0.1574625 ,  0.0258875 ,  0.1498425 ,\n",
       "        0.099775  ,  0.06666   ,  0.303325  , -0.04788   ,  0.229525  ,\n",
       "        0.00786325, -0.07418   ,  0.15416   , -0.004022  ,  0.29705   ,\n",
       "       -0.400225  ,  0.007079  ,  0.15236   ,  0.30375   , -0.038155  ,\n",
       "       -0.1529925 ,  0.0514875 ,  0.3278    , -0.00083627, -0.1376675 ,\n",
       "       -0.244045  ,  0.222105  ,  0.180235  , -0.0543225 ,  0.301275  ,\n",
       "       -0.14083   , -0.00201715,  0.55655   , -0.218385  , -0.1699    ,\n",
       "        0.223975  ,  0.1761425 ,  0.2013475 ,  0.1498725 ,  0.155475  ,\n",
       "       -0.0435075 , -0.364775  ,  0.161775  , -0.0255625 ,  0.188165  ,\n",
       "       -0.2082325 , -0.1933925 , -0.254425  , -0.143445  , -0.274175  ,\n",
       "       -0.0765625 , -0.083485  , -0.1528975 ,  0.295275  ,  0.0310625 ,\n",
       "        0.0740225 , -0.0315975 , -0.297325  ,  0.12227   ,  0.1183175 ,\n",
       "       -0.088645  ,  0.0793925 ,  0.1314175 , -0.25975   ,  0.1403725 ,\n",
       "       -0.0342025 , -0.06369   , -0.013837  , -0.1198875 ,  0.2853    ,\n",
       "       -0.0409725 ,  0.0012649 , -0.01228225, -0.057965  ,  0.0564425 ,\n",
       "       -0.12038   ,  0.0515175 , -0.1413875 , -0.0677025 , -0.00881625,\n",
       "        0.529325  ,  0.0755075 , -0.011041  , -0.188845  ,  0.18183   ,\n",
       "       -0.1038575 ,  0.03532   ,  0.21714   , -0.18106   , -0.2814    ,\n",
       "       -0.12644   , -0.0873575 , -0.0941725 , -0.1473025 ,  0.266925  ,\n",
       "       -0.0447725 , -0.351175  , -0.056085  , -0.208575  ,  0.1202825 ,\n",
       "       -0.044425  ,  0.17601   ,  0.107245  , -0.231605  , -0.154165  ,\n",
       "        0.36345   ,  0.3485    ,  0.2885    , -0.1397575 , -0.122305  ,\n",
       "        0.0065425 , -0.1227825 , -0.046405  ,  0.14912   , -0.0688525 ,\n",
       "        0.463225  , -0.3833    ,  0.00183912,  0.449125  ,  0.385925  ,\n",
       "        0.135055  ,  0.1220675 , -0.12052   ,  0.1419525 , -0.095255  ,\n",
       "       -0.1550675 ,  0.23201   , -0.0621525 , -0.265     ,  0.038225  ,\n",
       "       -0.137035  , -0.21632   ,  0.297     , -0.0884075 , -0.467075  ,\n",
       "       -0.041825  , -0.0413325 , -0.306475  , -0.059065  , -0.2295875 ,\n",
       "       -0.3152    ,  0.213555  , -0.04444   ,  0.0542775 , -0.0583925 ,\n",
       "        0.1964375 , -0.087105  ,  0.23244   , -0.3043    ,  0.4195    ,\n",
       "       -0.0062325 , -0.01475075, -0.18561   , -0.1327325 , -0.1604125 ,\n",
       "        0.20402   ,  0.18257   , -0.102415  ,  0.2331575 , -0.1005125 ,\n",
       "       -0.121265  , -0.1513975 ,  0.093965  ,  0.01270775,  0.133215  ,\n",
       "        0.2087875 , -0.052455  , -0.255525  ,  0.332225  ,  0.2826    ,\n",
       "       -0.210195  ,  0.14053   , -0.1450975 , -0.0943625 ,  0.1411975 ,\n",
       "       -0.15611   ,  0.0458175 , -0.37045   , -0.1543225 , -0.0014575 ,\n",
       "        0.104165  ,  0.00144182, -0.35715   ,  0.049475  , -0.4489    ,\n",
       "        0.0409525 , -0.02788   ,  0.044515  ,  0.1527625 ,  0.1117725 ,\n",
       "        0.27385   , -0.02396675, -0.2499    , -0.1762775 ,  0.0385775 ,\n",
       "        0.0665975 , -0.079345  , -0.17671   , -0.192575  ,  0.04455   ,\n",
       "       -0.06948   ,  0.496925  ,  0.1044875 , -0.09014   , -0.200745  ,\n",
       "       -0.093755  , -0.23088   ,  0.35205   ,  0.10274   ,  0.06779   ,\n",
       "        0.0269525 ,  0.1526875 , -0.1009175 ,  0.04309   ,  0.1569875 ,\n",
       "        0.363525  , -0.00211473,  0.139235  , -0.18139   , -0.0454825 ,\n",
       "        0.02465875, -0.017711  ,  0.01341075,  0.08329   , -0.4339    ,\n",
       "        0.05378   , -0.1684175 , -0.000661  , -0.037525  , -0.0823175 ,\n",
       "       -0.02349675,  0.1471475 , -0.031875  ,  0.01351075, -0.08159   ,\n",
       "        0.083855  ,  0.363275  ,  0.1395225 , -0.2977    , -0.1955975 ,\n",
       "       -0.1601425 ,  0.0871125 , -0.2747    ,  0.0809275 , -0.23361   ,\n",
       "        0.20913   ,  0.065365  ,  0.245925  ,  0.075485  ,  0.03828   ,\n",
       "        0.39865   ,  0.1066325 , -0.00772825, -0.29545   , -0.31165   ,\n",
       "        0.2791    , -0.1973825 ,  0.08646   , -0.06461   , -0.0786925 ,\n",
       "       -0.230155  , -0.00873725,  0.1357625 , -0.00967125, -0.24884   ,\n",
       "       -0.0479    ,  0.372025  , -0.1908875 ,  0.2688    ,  0.0453175 ,\n",
       "       -0.01555825, -0.038925  , -0.19097   ,  0.150095  , -0.29385   ,\n",
       "        0.2176325 , -0.209565  ,  0.24076   ,  0.4475    ,  0.01198825,\n",
       "       -0.1187825 ,  0.1233075 ,  0.1965025 ,  0.0413025 , -0.273425  ,\n",
       "        0.322225  ,  0.123795  , -0.13658   , -0.0898025 ,  0.078095  ,\n",
       "       -0.1320375 ,  0.1051875 , -0.354325  , -0.047065  , -0.058455  ],\n",
       "      dtype=float32)"
      ]
     },
     "execution_count": 56,
     "metadata": {},
     "output_type": "execute_result"
    }
   ],
   "source": [
    "doc = nlp(u'ذهب محمد الي الجامعة')\n",
    "\n",
    "doc.vector"
   ]
  },
  {
   "cell_type": "code",
   "execution_count": 56,
   "metadata": {
    "executionInfo": {
     "elapsed": 11,
     "status": "ok",
     "timestamp": 1700246593724,
     "user": {
      "displayName": "ahmed samy",
      "userId": "08145535144646204615"
     },
     "user_tz": 0
    },
    "id": "5-oUuTzTkbFh"
   },
   "outputs": [],
   "source": []
  }
 ],
 "metadata": {
  "colab": {
   "authorship_tag": "ABX9TyNzRQTRvQjXq0hnoHw6YVnC",
   "provenance": []
  },
  "kernelspec": {
   "display_name": "Python 3 (ipykernel)",
   "language": "python",
   "name": "python3"
  },
  "language_info": {
   "codemirror_mode": {
    "name": "ipython",
    "version": 3
   },
   "file_extension": ".py",
   "mimetype": "text/x-python",
   "name": "python",
   "nbconvert_exporter": "python",
   "pygments_lexer": "ipython3",
   "version": "3.9.13"
  }
 },
 "nbformat": 4,
 "nbformat_minor": 1
}
